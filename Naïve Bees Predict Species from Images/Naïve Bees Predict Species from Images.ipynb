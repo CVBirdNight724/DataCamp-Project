{
 "metadata": {
  "language_info": {
   "codemirror_mode": {
    "name": "ipython",
    "version": 3
   },
   "file_extension": ".py",
   "mimetype": "text/x-python",
   "name": "python",
   "nbconvert_exporter": "python",
   "pygments_lexer": "ipython3",
   "version": 3
  },
  "orig_nbformat": 2
 },
 "nbformat": 4,
 "nbformat_minor": 2,
 "cells": [
  {
   "source": [
    "# Naïve Bees: Predict Species from Images\n",
    "\n",
    "## Project Description\n",
    "\n",
    "Can a machine distinguish between a honey bee and a bumble bee? Being able to identify bee species from images, while challenging, would allow researchers to more quickly and effectively collect field data. In this project, you will use the Python image library Pillow to load and manipulate image data, then build a model to identify honey bees and bumble bees given an image of these insects.\n",
    "\n",
    "This project is the second part of a series of projects that walk through working with image data, building classifiers using traditional techniques, and leveraging the power of deep learning for computer vision.\n",
    "\n",
    "Before taking this project, it will help to have completed [Naïve Bees: Image Loading and Processing](https://learn.datacamp.com/projects/374).\n",
    "\n",
    "## Project Tasks\n",
    "\n",
    "- 1. [Import Python libraries](#1.-Import-Python-libraries)\n",
    "- 2. Display image of each bee type\n",
    "- 3. Image manipulation with rgb2grey\n",
    "- 4. Histogram of oriented gradients\n",
    "- 5. Create image features and flatten into a single row\n",
    "- 6. Loop over images to preprocess\n",
    "- 7. Scale feature matrix + PCA\n",
    "- 8. Split into train and test sets\n",
    "- 9. Train model\n",
    "- 10. Score model\n",
    "- 11. ROC curve + AUC"
   ],
   "cell_type": "markdown",
   "metadata": {}
  },
  {
   "source": [
    "# 1. Import Python libraries"
   ],
   "cell_type": "markdown",
   "metadata": {}
  }
 ]
}