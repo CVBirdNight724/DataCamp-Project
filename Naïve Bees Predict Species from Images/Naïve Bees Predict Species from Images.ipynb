{
 "metadata": {
  "language_info": {
   "codemirror_mode": {
    "name": "ipython",
    "version": 3
   },
   "file_extension": ".py",
   "mimetype": "text/x-python",
   "name": "python",
   "nbconvert_exporter": "python",
   "pygments_lexer": "ipython3",
   "version": 3
  },
  "orig_nbformat": 2
 },
 "nbformat": 4,
 "nbformat_minor": 2,
 "cells": [
  {
   "source": [
    "# Naïve Bees: Predict Species from Images\n",
    "\n",
    "## Project Description\n",
    "\n",
    "Can a machine distinguish between a honey bee and a bumble bee? Being able to identify bee species from images, while challenging, would allow researchers to more quickly and effectively collect field data. In this project, you will use the Python image library Pillow to load and manipulate image data, then build a model to identify honey bees and bumble bees given an image of these insects.\n",
    "\n",
    "This project is the second part of a series of projects that walk through working with image data, building classifiers using traditional techniques, and leveraging the power of deep learning for computer vision.\n",
    "\n",
    "Before taking this project, it will help to have completed [Naïve Bees: Image Loading and Processing](https://learn.datacamp.com/projects/374).\n",
    "\n",
    "## Project Tasks\n",
    "\n",
    "- 1. [Import Python libraries](#1.-Import-Python-libraries)\n",
    "- 2. [Display image of each bee type](#2.-Display-image-of-each-bee-type)\n",
    "- 3. Image manipulation with rgb2grey\n",
    "- 4. Histogram of oriented gradients\n",
    "- 5. Create image features and flatten into a single row\n",
    "- 6. Loop over images to preprocess\n",
    "- 7. Scale feature matrix + PCA\n",
    "- 8. Split into train and test sets\n",
    "- 9. Train model\n",
    "- 10. Score model\n",
    "- 11. ROC curve + AUC"
   ],
   "cell_type": "markdown",
   "metadata": {}
  },
  {
   "source": [
    "# 1. Import Python libraries"
   ],
   "cell_type": "markdown",
   "metadata": {}
  },
  {
   "source": [
    "<p align=\"center\">\n",
    "    <img src=\"image/92_notebook.jpg\">\n",
    "</p>\n",
    "\n",
    "A honey bee (Apis).\n",
    "\n",
    "Can a machine identify a bee as a honey bee or a bumble bee? These bees have different [behaviors and appearances](https://www.thesca.org/connect/blog/bumblebees-vs-honeybees-what%E2%80%99s-difference-and-why-does-it-matter), but given the variety of backgrounds, positions, and image resolutions, it can be a challenge for machines to tell them apart.\n",
    "\n",
    "Being able to identify bee species from images is a task that ultimately would allow researchers to more quickly and effectively collect field data. Pollinating bees have critical roles in both ecology and agriculture, and diseases like [colony collapse disorder](https://news.harvard.edu/gazette/story/2015/07/pesticide-found-in-70-percent-of-massachusetts-honey-samples/) threaten these species. Identifying different species of bees in the wild means that we can better understand the prevalence and growth of these important insects.\n",
    "\n",
    "<p align=\"center\">\n",
    "    <img src=\"image/20_notebook.jpg\">\n",
    "</p>\n",
    "A bumble bee (Bombus).\n",
    "\n",
    "After loading and pre-processing images, this notebook walks through building a model that can automatically detect honey bees and bumble bees."
   ],
   "cell_type": "markdown",
   "metadata": {}
  },
  {
   "cell_type": "code",
   "execution_count": null,
   "metadata": {},
   "outputs": [],
   "source": [
    "# used to change filepaths\n",
    "import os\n",
    "\n",
    "import matplotlib as mpl\n",
    "import matplotlib.pyplot as plt\n",
    "from IPython.display import display\n",
    "%matplotlib inline\n",
    "\n",
    "import pandas as pd\n",
    "import numpy as np\n",
    "\n",
    "# import Image from PIL\n",
    "from PIL import Image\n",
    "\n",
    "from skimage.feature import hog\n",
    "from skimage.color import rgb2grey\n",
    "\n",
    "from sklearn.preprocessing import StandardScaler\n",
    "from sklearn.decomposition import PCA\n",
    "\n",
    "# import train_test_split from sklearn's model selection module\n",
    "from sklearn.model_selection import train_test_split\n",
    "\n",
    "# import SVC from sklearn's svm module\n",
    "from sklearn.svm import SVC\n",
    "\n",
    "# import accuracy_score from sklearn's metrics module\n",
    "from sklearn.metrics import roc_curve, auc, accuracy_score"
   ]
  },
  {
   "source": [
    "# 2. Display image of each bee type"
   ],
   "cell_type": "markdown",
   "metadata": {}
  },
  {
   "source": [
    "Now that we have all of our imports ready, it is time to look at some images. We will load our labels.csv file into a dataframe called labels, where the index is the image name (e.g. an index of 1036 refers to an image named 1036.jpg) and the genus column tells us the bee type. genus takes the value of either 0.0 (Apis or honey bee) or 1.0 (Bombus or bumble bee).\n",
    "\n",
    "The function get_image converts an index value from the dataframe into a file path where the image is located, opens the image using the [Image](https://pillow.readthedocs.io/en/5.1.x/reference/Image.html) object in Pillow, and then returns the image as a numpy array.\n",
    "\n",
    "We'll use this function to load the sixth Apis image and then the sixth Bombus image in the dataframe."
   ],
   "cell_type": "markdown",
   "metadata": {}
  },
  {
   "cell_type": "code",
   "execution_count": null,
   "metadata": {},
   "outputs": [],
   "source": [
    "# load the labels using pandas\n",
    "labels = pd.read_csv(\"datasets/labels.csv\", index_col=0)\n",
    "\n",
    "# show the first five rows of the dataframe using head\n",
    "display(labels.head())\n",
    "\n",
    "def get_image(row_id, root=\"datasets/\"):\n",
    "    \"\"\"\n",
    "    Converts an image number into the file path where the image is located, \n",
    "    opens the image, and returns the image as a numpy array.\n",
    "    \"\"\"\n",
    "    filename = \"{}.jpg\".format(row_id)\n",
    "    file_path = os.path.join(root, filename)\n",
    "    img = Image.open(file_path)\n",
    "    return np.array(img)\n",
    "\n",
    "# subset the dataframe to just Apis (genus is 0.0) get the value of the sixth item in the index\n",
    "apis_row = labels[labels.genus == 0.0].index[5]\n",
    "\n",
    "# show the corresponding image of an Apis\n",
    "plt.imshow(get_image(apis_row))\n",
    "plt.show()\n",
    "\n",
    "# subset the dataframe to just Bombus (genus is 1.0) get the value of the sixth item in the index\n",
    "bombus_row = labels[labels.genus==1.0].index[5]\n",
    "\n",
    "# show the corresponding image of a Bombus\n",
    "plt.imshow(get_image(bombus_row))\n",
    "plt.show()"
   ]
  }
 ]
}