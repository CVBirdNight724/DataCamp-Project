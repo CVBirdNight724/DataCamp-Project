{
 "metadata": {
  "language_info": {
   "codemirror_mode": {
    "name": "ipython",
    "version": 3
   },
   "file_extension": ".py",
   "mimetype": "text/x-python",
   "name": "python",
   "nbconvert_exporter": "python",
   "pygments_lexer": "ipython3",
   "version": 3
  },
  "orig_nbformat": 2
 },
 "nbformat": 4,
 "nbformat_minor": 2,
 "cells": [
  {
   "source": [
    "# Naïve Bees: Predict Species from Images\n",
    "\n",
    "## Project Description\n",
    "\n",
    "Can a machine distinguish between a honey bee and a bumble bee? Being able to identify bee species from images, while challenging, would allow researchers to more quickly and effectively collect field data. In this project, you will use the Python image library Pillow to load and manipulate image data, then build a model to identify honey bees and bumble bees given an image of these insects.\n",
    "\n",
    "This project is the second part of a series of projects that walk through working with image data, building classifiers using traditional techniques, and leveraging the power of deep learning for computer vision.\n",
    "\n",
    "Before taking this project, it will help to have completed [Naïve Bees: Image Loading and Processing](https://learn.datacamp.com/projects/374).\n",
    "\n",
    "## Project Tasks\n",
    "\n",
    "- 1. [Import Python libraries](Naïve_Bees_Predict_Species_from_Images.ipynb#1.-Import-Python-libraries)\n",
    "- 2. [Display image of each bee type](#2.-Display-image-of-each-bee-type)\n",
    "- 3. Image manipulation with rgb2grey\n",
    "- 4. Histogram of oriented gradients\n",
    "- 5. Create image features and flatten into a single row\n",
    "- 6. Loop over images to preprocess\n",
    "- 7. Scale feature matrix + PCA\n",
    "- 8. Split into train and test sets\n",
    "- 9. Train model\n",
    "- 10. Score model\n",
    "- 11. ROC curve + AUC"
   ],
   "cell_type": "markdown",
   "metadata": {}
  },
  {
   "source": [
    "# 1. Import Python libraries\n",
    "\n",
    "<a id='#1.-Import-Python-libraries'></a>"
   ],
   "cell_type": "markdown",
   "metadata": {}
  },
  {
   "source": [
    "<p align=\"center\">\n",
    "    <img src=\"image/92_notebook.jpg\">\n",
    "</p>\n",
    "\n",
    "A honey bee (Apis).\n",
    "\n",
    "Can a machine identify a bee as a honey bee or a bumble bee? These bees have different [behaviors and appearances](https://www.thesca.org/connect/blog/bumblebees-vs-honeybees-what%E2%80%99s-difference-and-why-does-it-matter), but given the variety of backgrounds, positions, and image resolutions, it can be a challenge for machines to tell them apart.\n",
    "\n",
    "Being able to identify bee species from images is a task that ultimately would allow researchers to more quickly and effectively collect field data. Pollinating bees have critical roles in both ecology and agriculture, and diseases like [colony collapse disorder](https://news.harvard.edu/gazette/story/2015/07/pesticide-found-in-70-percent-of-massachusetts-honey-samples/) threaten these species. Identifying different species of bees in the wild means that we can better understand the prevalence and growth of these important insects.\n",
    "\n",
    "<p align=\"center\">\n",
    "    <img src=\"image/20_notebook.jpg\">\n",
    "</p>\n",
    "A bumble bee (Bombus).\n",
    "\n",
    "After loading and pre-processing images, this notebook walks through building a model that can automatically detect honey bees and bumble bees."
   ],
   "cell_type": "markdown",
   "metadata": {}
  },
  {
   "cell_type": "code",
   "execution_count": null,
   "metadata": {},
   "outputs": [],
   "source": [
    "# used to change filepaths\n",
    "import os\n",
    "\n",
    "import matplotlib as mpl\n",
    "import matplotlib.pyplot as plt\n",
    "from IPython.display import display\n",
    "%matplotlib inline\n",
    "\n",
    "import pandas as pd\n",
    "import numpy as np\n",
    "\n",
    "# import Image from PIL\n",
    "from PIL import Image\n",
    "\n",
    "from skimage.feature import hog\n",
    "from skimage.color import rgb2grey\n",
    "\n",
    "from sklearn.preprocessing import StandardScaler\n",
    "from sklearn.decomposition import PCA\n",
    "\n",
    "# import train_test_split from sklearn's model selection module\n",
    "from sklearn.model_selection import train_test_split\n",
    "\n",
    "# import SVC from sklearn's svm module\n",
    "from sklearn.svm import SVC\n",
    "\n",
    "# import accuracy_score from sklearn's metrics module\n",
    "from sklearn.metrics import roc_curve, auc, accuracy_score"
   ]
  },
  {
   "source": [
    "# 2. Display image of each bee type"
   ],
   "cell_type": "markdown",
   "metadata": {}
  },
  {
   "source": [
    "Now that we have all of our imports ready, it is time to look at some images. We will load our labels.csv file into a dataframe called labels, where the index is the image name (e.g. an index of 1036 refers to an image named 1036.jpg) and the genus column tells us the bee type. genus takes the value of either 0.0 (Apis or honey bee) or 1.0 (Bombus or bumble bee).\n",
    "\n",
    "The function get_image converts an index value from the dataframe into a file path where the image is located, opens the image using the [Image](https://pillow.readthedocs.io/en/5.1.x/reference/Image.html) object in Pillow, and then returns the image as a numpy array.\n",
    "\n",
    "We'll use this function to load the sixth Apis image and then the sixth Bombus image in the dataframe."
   ],
   "cell_type": "markdown",
   "metadata": {}
  },
  {
   "cell_type": "code",
   "execution_count": null,
   "metadata": {},
   "outputs": [],
   "source": [
    "# load the labels using pandas\n",
    "labels = pd.read_csv(\"datasets/labels.csv\", index_col=0)\n",
    "\n",
    "# show the first five rows of the dataframe using head\n",
    "display(labels.head())\n",
    "\n",
    "def get_image(row_id, root=\"datasets/\"):\n",
    "    \"\"\"\n",
    "    Converts an image number into the file path where the image is located, \n",
    "    opens the image, and returns the image as a numpy array.\n",
    "    \"\"\"\n",
    "    filename = \"{}.jpg\".format(row_id)\n",
    "    file_path = os.path.join(root, filename)\n",
    "    img = Image.open(file_path)\n",
    "    return np.array(img)\n",
    "\n",
    "# subset the dataframe to just Apis (genus is 0.0) get the value of the sixth item in the index\n",
    "apis_row = labels[labels.genus == 0.0].index[5]\n",
    "\n",
    "# show the corresponding image of an Apis\n",
    "plt.imshow(get_image(apis_row))\n",
    "plt.show()\n",
    "\n",
    "# subset the dataframe to just Bombus (genus is 1.0) get the value of the sixth item in the index\n",
    "bombus_row = labels[labels.genus==1.0].index[5]\n",
    "\n",
    "# show the corresponding image of a Bombus\n",
    "plt.imshow(get_image(bombus_row))\n",
    "plt.show()"
   ]
  },
  {
   "source": [
    "# 3. Image manipulation with rgb2grey"
   ],
   "cell_type": "markdown",
   "metadata": {}
  },
  {
   "source": [
    "scikit-image has a number of image processing functions built into the library, for example, converting an image to greyscale. The rgb2grey function computes the luminance of an RGB image using the following formula $Y = 0.2125 R + 0.7154 G + 0.0721 B$.\n",
    "\n",
    "Image data is represented as a matrix, where the depth is the number of channels. An RGB image has three channels (red, green, and blue) whereas the returned greyscale image has only one channel. Accordingly, the original color image has the dimensions `100x100x3` but after calling `rgb2grey`, the resulting greyscale image has only one channel, making the dimensions `100x100x1`."
   ],
   "cell_type": "markdown",
   "metadata": {}
  },
  {
   "cell_type": "code",
   "execution_count": null,
   "metadata": {},
   "outputs": [],
   "source": [
    "# load a bombus image using our get_image function and bombus_row from the previous cell\n",
    "bombus = get_image(bombus_row)\n",
    "\n",
    "# print the shape of the bombus image\n",
    "print('Color bombus image has shape: ', ...)\n",
    "\n",
    "# convert the bombus image to greyscale\n",
    "grey_bombus = rgb2grey(bombus)\n",
    "\n",
    "# show the greyscale image\n",
    "plt.imshow(grey_bombus, cmap=mpl.cm.gray)\n",
    "\n",
    "# greyscale bombus image only has one channel\n",
    "print('Greyscale bombus image has shape: ', grey_bombus.shape)"
   ]
  },
  {
   "source": [
    "# 4. Histogram of oriented gradients"
   ],
   "cell_type": "markdown",
   "metadata": {}
  },
  {
   "source": [
    "Now we need to turn these images into something that a machine learning algorithm can understand. Traditional computer vision techniques have relied on mathematical transforms to turn images into useful features. For example, you may want to detect edges of objects in an image, increase the contrast, or filter out particular colors.\n",
    "\n",
    "We've got a matrix of pixel values, but those don't contain enough interesting information on their own for most algorithms. We need to help the algorithms along by picking out some of the salient features for them using the [histogram of oriented gradients](https://scikit-image.org/docs/dev/auto_examples/features_detection/plot_hog.html) (HOG) descriptor. The idea behind [HOG](https://en.wikipedia.org/wiki/Histogram_of_oriented_gradients) is that an object's shape within an image can be inferred by its edges, and a way to identify edges is by looking at the direction of intensity gradients (i.e. changes in luminescence). \n",
    "\n",
    "<p align=\"center\">\n",
    "    <img src=\"image/hog.png\">\n",
    "</p>\n",
    "\n",
    "An image is divided in a grid fashion into cells, and for the pixels within each cell, a histogram of gradient directions is compiled. To improve invariance to highlights and shadows in an image, cells are block normalized, meaning an intensity value is calculated for a larger region of an image called a block and used to contrast normalize all cell-level histograms within each block. The HOG feature vector for the image is the concatenation of these cell-level histograms."
   ],
   "cell_type": "markdown",
   "metadata": {}
  },
  {
   "cell_type": "code",
   "execution_count": null,
   "metadata": {},
   "outputs": [],
   "source": [
    "# run HOG using our greyscale bombus image\n",
    "hog_features, hog_image = hog(grey_bombus,\n",
    "                              visualize=True,\n",
    "                              block_norm='L2-Hys',\n",
    "                              pixels_per_cell=(16, 16))\n",
    "\n",
    "# show our hog_image with a grey colormap\n",
    "plt.imshow(hog_image, cmap=mpl.cm.gray)"
   ]
  },
  {
   "source": [
    "# 5. Create image features and flatten into a single row"
   ],
   "cell_type": "markdown",
   "metadata": {}
  },
  {
   "source": [
    "Algorithms require data to be in a format where rows correspond to images and columns correspond to features. This means that all the information for a given image needs to be contained in a single row.\n",
    "\n",
    "We want to provide our model with the raw pixel values from our images as well as the HOG features we just calculated. To do this, we will write a function called `create_features` that combines these two sets of features by flattening the three-dimensional array into a one-dimensional (flat) array."
   ],
   "cell_type": "markdown",
   "metadata": {}
  },
  {
   "cell_type": "code",
   "execution_count": null,
   "metadata": {},
   "outputs": [],
   "source": [
    "def create_features(img):\n",
    "    # flatten three channel color image\n",
    "    color_features = np.ndarray.flatten(img)\n",
    "    # convert image to greyscale\n",
    "    grey_image = rgb2grey(img)\n",
    "    # get HOG features from greyscale image\n",
    "    hog_features = hog(grey_image, block_norm='L2-Hys', pixels_per_cell=(16, 16))\n",
    "    # combine color and hog features into a single array\n",
    "    flat_features = np.hstack((color_features, hog_features))\n",
    "    return flat_features\n",
    "\n",
    "bombus_features = create_features(bombus)\n",
    "\n",
    "# print shape of bombus_features\n",
    "print(bombus_features.shape)"
   ]
  },
  {
   "source": [
    "# 6. Loop over images to preprocess"
   ],
   "cell_type": "markdown",
   "metadata": {}
  },
  {
   "source": [
    "Above we generated a flattened features array for the bombus image. Now it's time to loop over all of our images. We will create features for each image and then stack the flattened features arrays into a big matrix we can pass into our model.\n",
    "\n",
    "In the `create_feature_matrix` function, we'll do the following:\n",
    "\n",
    "- Load an image\n",
    "- Generate a row of features using the `create_features` function above\n",
    "- Stack the rows into a features matrix\n",
    "\n",
    "In the resulting features matrix, rows correspond to images and columns to features."
   ],
   "cell_type": "markdown",
   "metadata": {}
  },
  {
   "cell_type": "code",
   "execution_count": null,
   "metadata": {},
   "outputs": [],
   "source": [
    "def create_feature_matrix(label_dataframe):\n",
    "    features_list = []\n",
    "    \n",
    "    for img_id in label_dataframe.index:\n",
    "        # load image\n",
    "        img = get_image(img_id)\n",
    "        # get features for image\n",
    "        image_features = create_features(img)\n",
    "        features_list.append(image_features)\n",
    "        \n",
    "    # convert list of arrays into a matrix\n",
    "    feature_matrix = np.array(features_list)\n",
    "    return feature_matrix\n",
    "\n",
    "# run create_feature_matrix on our dataframe of images\n",
    "feature_matrix = create_feature_matrix(labels)"
   ]
  },
  {
   "source": [
    "# 7. Scale feature matrix + PCA"
   ],
   "cell_type": "markdown",
   "metadata": {}
  },
  {
   "source": [
    "Our features aren't quite done yet. Many machine learning methods are built to work best with data that has a mean of 0 and unit variance. Luckily, scikit-learn [provides a simple way](https://scikit-learn.org/stable/modules/generated/sklearn.preprocessing.StandardScaler.html) to rescale your data to work well using `StandardScaler`. They've got a more thorough explanation of why that is in the linked docs.\n",
    "\n",
    "Remember also that we have over 31,000 features for each image and only 500 images total. To use an SVM, our model of choice, we also need to reduce the number of features we have using [principal component analysis](https://scikit-learn.org/stable/modules/decomposition.html#pca) (PCA).\n",
    "\n",
    "PCA is a way of linearly transforming the data such that most of the information in the data is contained within a smaller number of features called components. Below is a visual [example](https://towardsdatascience.com/pca-using-python-scikit-learn-e653f8989e60) from an image dataset containing handwritten numbers. The image on the left is the original image with 784 components. We can see that the image on the right (post PCA) captures the shape of the number quite effectively even with only 59 components.\n",
    "\n",
    "<p align=\"center\">\n",
    "    <img src=\"image/pca_cropped.png\">\n",
    "</p>\n",
    "\n",
    "In our case, we will keep 500 components. This means our feature matrix will only have 500 columns rather than the original 31,296."
   ],
   "cell_type": "markdown",
   "metadata": {}
  },
  {
   "cell_type": "code",
   "execution_count": null,
   "metadata": {},
   "outputs": [],
   "source": [
    "# get shape of feature matrix\n",
    "print('Feature matrix shape is: ', feature_matrix.shape)\n",
    "\n",
    "# define standard scaler\n",
    "ss = StandardScaler()\n",
    "# run this on our feature matrix\n",
    "bees_stand = ss.fit_transform(feature_matrix)\n",
    "\n",
    "pca = PCA(n_components=500)\n",
    "# use fit_transform to run PCA on our standardized matrix\n",
    "bees_pca = pca.fit_transform(bees_stand)\n",
    "# look at new shape\n",
    "print('PCA matrix shape is: ', bees_pca.shape)"
   ]
  },
  {
   "source": [
    "# 8. Split into train and test sets"
   ],
   "cell_type": "markdown",
   "metadata": {}
  },
  {
   "source": [
    "Now we need to convert our data into train and test sets. We'll use 70% of images as our training data and test our model on the remaining 30%. Scikit-learn's [`train_test_split`](https://scikit-learn.org/stable/modules/generated/sklearn.model_selection.train_test_split.html) function makes this easy."
   ],
   "cell_type": "markdown",
   "metadata": {}
  },
  {
   "cell_type": "code",
   "execution_count": null,
   "metadata": {},
   "outputs": [],
   "source": [
    "X_train, X_test, y_train, y_test = train_test_split(bees_pca,\n",
    "                                                    labels.genus.values,\n",
    "                                                    test_size=.3,\n",
    "                                                    random_state=1234123)\n",
    "\n",
    "# look at the distrubution of labels in the train set\n",
    "pd.Series(y_train).value_counts()"
   ]
  },
  {
   "source": [
    "# 9. Train model"
   ],
   "cell_type": "markdown",
   "metadata": {}
  },
  {
   "source": [
    "It's finally time to build our model! We'll use a [support vector machine](https://scikit-learn.org/stable/modules/svm.html) (SVM), a type of supervised machine learning model used for regression, classification, and outlier detection.\" An [SVM model](https://en.wikipedia.org/wiki/Support-vector_machine) is a representation of the examples as points in space, mapped so that the examples of the separate categories are divided by a clear gap that is as wide as possible. New examples are then mapped into that same space and predicted to belong to a category based on which side of the gap they fall.\"\n",
    "\n",
    "Here's a visualization of the maximum margin separating two classes using an SVM classifier with a linear kernel. \n",
    "\n",
    "<p align=\"center\">\n",
    "    <img src=\"image/svm_cropped.png\">\n",
    "</p>\n",
    "\n",
    "ince we have a classification task -- honey or bumble bee -- we will use the support vector classifier (SVC), a type of SVM. We imported this class at the top of the notebook."
   ],
   "cell_type": "markdown",
   "metadata": {}
  },
  {
   "cell_type": "code",
   "execution_count": null,
   "metadata": {},
   "outputs": [],
   "source": [
    "# define support vector classifier\n",
    "svm = SVC(kernel=\"linear\", probability=True, random_state=42)\n",
    "\n",
    "# fit model\n",
    "svm.fit(X_train, y_train)"
   ]
  },
  {
   "source": [
    "# 10. Score model"
   ],
   "cell_type": "markdown",
   "metadata": {}
  },
  {
   "source": [
    "Now we'll use our trained model to generate predictions for our test data. To see how well our model did, we'll calculate the accuracy by comparing our predicted labels for the test set with the true labels in the test set. Accuracy is the number of correct predictions divided by the total number of predictions. Scikit-learn's [`accuracy_score`](https://scikit-learn.org/stable/modules/generated/sklearn.metrics.accuracy_score.html) function will do math for us. Sometimes accuracy can be misleading, but since we have an equal number of honey and bumble bees, it is a useful metric for this problem."
   ],
   "cell_type": "markdown",
   "metadata": {}
  },
  {
   "cell_type": "code",
   "execution_count": null,
   "metadata": {},
   "outputs": [],
   "source": [
    "# generate predictions\n",
    "y_pred = svm.predict(X_test)\n",
    "\n",
    "# calculate accuracy\n",
    "accuracy = accuracy_score(y_pred, y_test)\n",
    "print('Model accuracy is: ', accuracy)"
   ]
  },
  {
   "source": [
    "# 11. ROC curve + AUC"
   ],
   "cell_type": "markdown",
   "metadata": {}
  },
  {
   "source": [
    "Above, we used svm.predict to predict either `0.0` or `1.0` for each image in `X_test`. Now, we'll use `svm.predict_proba` to get the probability that **each class** is the true label. For example, `predict_proba` returns `[0.46195176, 0.53804824]` for the first image, meaning there is a 46% chance the bee in the image is an Apis `(0.0)` and a 53% chance the bee in the image is a Bombus `(1.0)`. Note that the two probabilities for each image always sum to 1.\n",
    "\n",
    "Using the default settings, probabilities of 0.5 or above are assigned a class label of `1.0` and those below are assigned a `0.0`. However, this threshold can be adjusted. The [receiver operating characteristic curve](https://en.wikipedia.org/wiki/Receiver_operating_characteristic) (ROC curve) plots the false positive rate and true positive rate at different thresholds. ROC curves are judged visually by how close they are to the upper lefthand corner.\n",
    "\n",
    "The [area under the curve](https://en.wikipedia.org/wiki/Receiver_operating_characteristic#Area_under_the_curve) (AUC) is also calculated, where 1 means every predicted label was correct. Generally, the worst score for AUC is 0.5, which is the performance of a model that randomly guesses. See the scikit-learn documentation for more resources and examples on [ROC](https://scikit-learn.org/stable/modules/generated/sklearn.metrics.roc_curve.html) [curves](https://scikit-learn.org/stable/modules/generated/sklearn.metrics.roc_curve.html) and [AUC](https://scikit-learn.org/stable/modules/generated/sklearn.metrics.auc.html)."
   ],
   "cell_type": "markdown",
   "metadata": {}
  },
  {
   "cell_type": "code",
   "execution_count": null,
   "metadata": {},
   "outputs": [],
   "source": [
    "# predict probabilities for X_test using predict_proba\n",
    "probabilities = svm.predict_proba(X_test)\n",
    "\n",
    "# select the probabilities for label 1.0\n",
    "y_proba = probabilities[:, 1]\n",
    "\n",
    "# calculate false positive rate and true positive rate at different thresholds\n",
    "false_positive_rate, true_positive_rate, thresholds = roc_curve(y_test, y_proba, pos_label=1)\n",
    "\n",
    "# calculate AUC\n",
    "roc_auc = auc(false_positive_rate, true_positive_rate)\n",
    "\n",
    "plt.title('Receiver Operating Characteristic')\n",
    "# plot the false positive rate on the x axis and the true positive rate on the y axis\n",
    "roc_plot = plt.plot(false_positive_rate,\n",
    "                    true_positive_rate,\n",
    "                    label='AUC = {:0.2f}'.format(roc_auc))\n",
    "\n",
    "plt.legend(loc=0)\n",
    "plt.plot([0,1], [0,1], ls='--')\n",
    "plt.ylabel('True Positive Rate')\n",
    "plt.xlabel('False Positive Rate');"
   ]
  }
 ]
}