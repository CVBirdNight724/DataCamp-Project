{
 "metadata": {
  "language_info": {
   "codemirror_mode": {
    "name": "ipython",
    "version": 3
   },
   "file_extension": ".py",
   "mimetype": "text/x-python",
   "name": "python",
   "nbconvert_exporter": "python",
   "pygments_lexer": "ipython3",
   "version": "3.6.10-final"
  },
  "orig_nbformat": 2,
  "kernelspec": {
   "name": "python3",
   "display_name": "Python 3.6.10 64-bit ('tensorflow-gpu': conda)",
   "metadata": {
    "interpreter": {
     "hash": "8a145cce965836a3d0fd48f3974012b3e2df1dc3707991b8b064a1263ebc107a"
    }
   }
  }
 },
 "nbformat": 4,
 "nbformat_minor": 2,
 "cells": [
  {
   "source": [
    "# 1. Import Python libraries\n",
    "<p align=\"center\">\n",
    "<img src=\"image/92_notebook.jpg\">\n",
    "</p>\n",
    "A honey bee (Apis).\n",
    "\n",
    "Can a machine identify a bee as a honey bee or a bumble bee? These bees have different [behaviors and appearances](https://www.thesca.org/connect/blog/bumblebees-vs-honeybees-what%E2%80%99s-difference-and-why-does-it-matter), but given the variety of backgrounds, positions, and image resolutions, it can be a challenge for machines to tell them apart.\n",
    "\n",
    "Being able to identify bee species from images is a task that ultimately would allow researchers to more quickly and effectively collect field data. Pollinating bees have critical roles in both ecology and agriculture, and diseases like [colony collapse disorder](https://news.harvard.edu/gazette/story/2015/07/pesticide-found-in-70-percent-of-massachusetts-honey-samples/) threaten these species. Identifying different species of bees in the wild means that we can better understand the prevalence and growth of these important insects.\n",
    "\n",
    "<p align=\"center\">\n",
    "<img src=\"image/20_notebook.jpg\">\n",
    "</p>\n",
    "A bumble bee (Bombus).\n",
    "\n",
    "This notebook walks through building a simple deep learning model that can automatically detect honey bees and bumble bees and then loads a pre-trained model for evaluation."
   ],
   "cell_type": "markdown",
   "metadata": {}
  },
  {
   "cell_type": "code",
   "execution_count": null,
   "metadata": {},
   "outputs": [],
   "source": [
    "import pickle\n",
    "from pathlib import Path\n",
    "from skimage import io\n",
    "\n",
    "import pandas as pd\n",
    "import numpy as np\n",
    "\n",
    "import matplotlib.pyplot as plt\n",
    "%matplotlib inline\n",
    "\n",
    "from sklearn.preprocessing import StandardScaler\n",
    "from sklearn.model_selection import train_test_split\n",
    "from sklearn.metrics import classification_report\n",
    "\n",
    "# import keras library\n",
    "import keras"
   ]
  },
  {
   "source": [
    "# 2. Load image labels\n",
    "Now that we have all of our imports ready, it is time to look at the labels for our data. We will load our labels.csv file into a DataFrame called labels, where the index is the image name (e.g. an index of 1036 refers to an image named 1036.jpg) and the genus column tells us the bee type. genus takes the value of either 0.0 (Apis or honey bee) or 1.0 (Bombus or bumble bee)."
   ],
   "cell_type": "markdown",
   "metadata": {}
  },
  {
   "cell_type": "code",
   "execution_count": null,
   "metadata": {},
   "outputs": [],
   "source": [
    "# load labels.csv from datasets folder using pandas\n",
    "labels = pd.read_csv('datasets/labels.csv', index_col=0)\n",
    "\n",
    "# print value counts for genus\n",
    "print(labels.genus.values)\n",
    "\n",
    "# assign the genus label values to y\n",
    "y = labels.genus.values"
   ]
  },
  {
   "source": [
    "# 3. Examine RGB values in an image matrix\n",
    "Image data can be represented as a matrix. The width of the matrix is the width of the image, the height of the matrix is the height of the image, and the depth of the matrix is the number of channels. Most image formats have three color channels: red, green, and blue.\n",
    "\n",
    "For each pixel in an image, there is a value for every channel. The combination of the three values corresponds to the color, as per the RGB color model. Values for each color can range from 0 to 255, so a purely blue pixel would show up as (0, 0, 255).\n",
    "\n",
    "<p align=\"center\">\n",
    "    <img src=\"image/rgb_example.png\">\n",
    "</p>\n",
    "\n",
    "Let's explore the data for a sample image."
   ],
   "cell_type": "markdown",
   "metadata": {}
  },
  {
   "cell_type": "code",
   "execution_count": null,
   "metadata": {},
   "outputs": [],
   "source": [
    "# load an image and explore\n",
    "example_image = io.imread('datasets/{}.jpg'.format(labels.index[0]))\n",
    "\n",
    "# show image\n",
    "plt.imshow(example_image)\n",
    "\n",
    "# print shape\n",
    "print('Example image has shape: ', example_image.shape)\n",
    "                    \n",
    "# print color channel values for top left pixel\n",
    "print('RGB values for the top left pixel are:', example_image[0][0][:])"
   ]
  },
  {
   "source": [
    "# 4. Normalize image data\n",
    "Now we need to normalize our image data. Normalization is a general term that means changing the scale of our data so it is consistent.\n",
    "\n",
    "In this case, we want each feature to have a similar range so our neural network can learn effectively across all the features. As explained in the [sklearn docs](https://scikit-learn.org/stable/modules/generated/sklearn.preprocessing.StandardScaler.html), \"If a feature has a variance that is orders of magnitude larger than others, it might dominate the objective function and make the estimator unable to learn from other features correctly as expected.\"\n",
    "\n",
    "We will scale our data so that it has a mean of 0 and standard deviation of 1. We'll use sklearn's StandardScaler to do the math for us, which entails taking each value, subtracting the mean, and then dividing by the standard deviation. We need to do this for each color channel (i.e. each feature) individually."
   ],
   "cell_type": "markdown",
   "metadata": {}
  },
  {
   "cell_type": "code",
   "execution_count": null,
   "metadata": {},
   "outputs": [],
   "source": [
    "# initialize standard scaler\n",
    "ss = StandardScaler()\n",
    "\n",
    "image_list = []\n",
    "for i in labels.index:\n",
    "    # load image\n",
    "    img = io.imread('datasets/{}.jpg'.format(i)).astype(np.float64)\n",
    "    \n",
    "    # for each channel, apply standard scaler's fit_transform method\n",
    "    for channel in range(img.shape[2]):\n",
    "        img[:, :, channel] = ss.fit_transform(img[:, :, channel])\n",
    "        \n",
    "    # append to list of all images\n",
    "    image_list.append(img)\n",
    "    \n",
    "# convert image list to single array\n",
    "X = np.array(image_list)\n",
    "\n",
    "# print shape of X\n",
    "print(X.shape)"
   ]
  },
  {
   "source": [
    "# 5. Split into train, test, and evaluation sets\n",
    "Now that we have our big image data matrix, X, as well as our labels, y, we can split our data into train, test, and evaluation sets. To do this, we'll first allocate 20% of the data into our evaluation, or holdout, set. This is data that the model never sees during training and will be used to score our trained model.\n",
    "\n",
    "We will then split the remaining data, 60/40, into train and test sets just like in supervised machine learning models. We will pass both the train and test sets into the neural network."
   ],
   "cell_type": "markdown",
   "metadata": {}
  },
  {
   "cell_type": "code",
   "execution_count": null,
   "metadata": {},
   "outputs": [],
   "source": [
    "# split out evaluation sets (x_eval and y_eval)\n",
    "x_interim, x_eval, y_interim, y_eval = train_test_split(X,\n",
    "                                           y,\n",
    "                                           test_size=0.2,\n",
    "                                           random_state=52)\n",
    "\n",
    "# split remaining data into train and test sets\n",
    "x_train, x_test, y_train, y_test = train_test_split(x_interim, \n",
    "                                                    y_interim,\n",
    "                                                    test_size=0.4,\n",
    "                                                    random_state=52)\n",
    "\n",
    "# examine number of samples in train, test, and validation sets\n",
    "print('x_train shape:', x_train.shape)\n",
    "print(x_train[0], 'train samples')\n",
    "print(x_test.shape[0], 'test samples')\n",
    "print(x_eval.shape[0], 'eval samples')"
   ]
  },
  {
   "source": [
    "# 6. Model building (part i)\n",
    "It's time to start building our deep learning model, a convolutional neural network (CNN). CNNs are a specific kind of artificial neural network that is very effective for image classification because they are able to take into account the spatial coherence of the image, i.e., that pixels close to each other are often related.\n",
    "\n",
    "Building a CNN begins with specifying the model type. In our case, we'll use a [Sequential](https://keras.io/guides/sequential_model/) model, which is a linear stack of layers. We'll then add two convolutional layers. To understand convolutional layers, imagine a flashlight being shown over the top left corner of the image and slowly sliding across all the areas of the image, moving across the image in the same way your eyes move across words on a page. Convolutional layers pass a kernel (a sliding window) over the image and perform element-wise matrix multiplication between the kernel values and the pixel values in the image."
   ],
   "cell_type": "markdown",
   "metadata": {}
  },
  {
   "cell_type": "code",
   "execution_count": null,
   "metadata": {},
   "outputs": [],
   "source": [
    "# set model constants\n",
    "num_classes = 1\n",
    "\n",
    "# define model as Sequential\n",
    "model = Sequential()\n",
    "\n",
    "# first convolutional layer with 32 filters\n",
    "model.add(Conv2D(32, kernel_size=(3, 3), activation='relu', input_shape=(50, 50, 3)))\n",
    "\n",
    "# add a second 2D convolutional layer with 64 filters\n",
    "model.add(Conv2D(64, kernel_size=(3, 3), activation='relu'))"
   ]
  },
  {
   "source": [
    "7. Model building (part ii)\n",
    "Let's continue building our model. So far our model has two convolutional layers. However, those are not the only layers that we need to perform our task. A complete neural network architecture will have a number of other layers that are designed to play a specific role in the overall functioning of the network. Much deep learning research is about how to structure these layers into coherent systems.\n",
    "\n",
    "We'll add the following layers:\n",
    "\n",
    "- [MaxPooling](https://keras.io/api/layers/pooling_layers/#maxpooling2d). This passes a (2, 2) moving window over the image and downscales the image by outputting the maximum value within the window.\n",
    "- [Conv2D](https://keras.io/api/layers/convolution_layers/#conv2d). This adds a third convolutional layer since deeper models, i.e. models with more convolutional layers, are better able to learn features from images.\n",
    "- [Dropout](https://keras.io/api/layers/core_layers/#dropout). This prevents the model from overfitting, i.e. perfectly remembering each image, by randomly setting 25% of the input units to 0 at each update during training.\n",
    "- [Flatten](https://keras.io/api/layers/core_layers/#flatten). As its name suggests, this flattens the output from the convolutional part of the CNN into a one-dimensional feature vector which can be passed into the following fully connected layers.\n",
    "- [Dense](https://keras.io/api/layers/core_layers/#dense). Fully connected layer where every input is connected to every output (see image below).\n",
    "- [Dropout](https://keras.io/api/layers/core_layers/#dropout). Another dropout layer to safeguard against overfitting, this time with a rate of 50%.\n",
    "- [Dense](https://keras.io/api/layers/core_layers/#dense). Final layer which calculates the probability the image is either a bumble bee or honey bee.\n",
    "To take a look at how it all stacks up, we'll print the model summary. Notice that our model has a whopping 3,669,249 paramaters. These are the different weights that the model learns through training and what are used to generate predictions on a new image.\n",
    "\n",
    "<p align=\"center\">\n",
    "    <img src=\"image/mlp_conv.png\">\n",
    "</p>"
   ],
   "cell_type": "markdown",
   "metadata": {}
  },
  {
   "cell_type": "code",
   "execution_count": null,
   "metadata": {},
   "outputs": [],
   "source": [
    "# reduce dimensionality through max pooling\n",
    "model.add(MaxPooling2D(pool_size=(2, 2)))\n",
    "\n",
    "# third convolutional layer with 64 filters\n",
    "model.add(Conv2D(64, kernel_size=(3, 3), activation='relu'))\n",
    "# add dropout to prevent over fitting\n",
    "model.add(Dropout(0.25))\n",
    "# necessary flatten step preceeding dense layer\n",
    "model.add(Flatten())\n",
    "# fully connected layer\n",
    "model.add(Dense(128, activation='relu'))\n",
    "\n",
    "# add additional dropout to prevent overfitting\n",
    "model.add(Dropout(0.5))\n",
    "\n",
    "# prediction layers\n",
    "model.add(Dense(1, activation='sigmoid', name='preds'))\n",
    "\n",
    "# show model summary\n",
    "model.summary()"
   ]
  },
  {
   "source": [
    "# 8. Compile and train model\n",
    "Now that we've specified the model architecture, we will compile the model for training. For this we need to specify the loss function (what we're trying to minimize), the optimizer (how we want to go about minimizing the loss), and the metric (how we'll judge the performance of the model).\n",
    "\n",
    "Then, we'll call .fit to begin the trainig the process.\n",
    "\n",
    "- \"Neural networks are trained iteratively using optimization techniques like gradient descent. After each cycle of training, an error metric is calculated based on the difference between prediction and target…Each neuron’s coefficients (weights) are then adjusted relative to how much they contributed to the total error. This process is repeated iteratively.\" [ML Cheatsheet](https://ml-cheatsheet.readthedocs.io/en/latest/nn_concepts.html)\n",
    "\n",
    "Since training is computationally intensive, we'll do a 'mock' training to get the feel for it, using just the first 10 images in the train and test sets and training for just 5 epochs. Epochs refer to the number of iterations over the data. Typically, neural networks will train for hundreds if not thousands of epochs.\n",
    "\n",
    "Take a look at the printout for each epoch and note the loss on the train set (loss), the accuracy on the train set (acc), and loss on the test set (val_loss) and the accuracy on the test set (val_acc). We'll explore this more in a later step."
   ],
   "cell_type": "markdown",
   "metadata": {}
  },
  {
   "cell_type": "code",
   "execution_count": null,
   "metadata": {},
   "outputs": [],
   "source": [
    "model.compile(\n",
    "    # set the loss as binary_crossentropy\n",
    "    loss=keras.losses.binary_crossentropy,\n",
    "    # set the optimizer as stochastic gradient descent\n",
    "    optimizer=keras.optimizers.SGD(lr=0.001),\n",
    "    # set the metric as accuracy\n",
    "    metrics=['accuracy']\n",
    ")\n",
    "\n",
    "# mock-train the model using the first ten observations of the train and test sets\n",
    "model.fit(\n",
    "    x_train[:10, :, :, :],\n",
    "    y_train[:10],\n",
    "    epochs=5,\n",
    "    verbose=1,\n",
    "    validation_data=(x_test[:10, :, :, :], y_test[:10])\n",
    ")"
   ]
  },
  {
   "source": [
    "# 9. Load pre-trained model and score\n",
    "Now we'll load a pre-trained model that has the architecture we specified above and was trained for 200 epochs on the full train and test sets we created above.\n",
    "\n",
    "Let's use the evaluate method to see how well the model did at classifying bumble bees and honey bees for the test and validation sets. Recall that accuracy is the number of correct predictions divided by the total number of predictions. Given that our classes are balanced, a model that predicts 1.0 for every image would get an accuracy around 0.5.\n",
    "\n",
    "Note: it may take a few seconds to load the model. Recall that our model has over 3 million parameters (weights), which are what's being loaded."
   ],
   "cell_type": "markdown",
   "metadata": {}
  },
  {
   "cell_type": "code",
   "execution_count": null,
   "metadata": {},
   "outputs": [],
   "source": [
    "# load pre-trained model\n",
    "pretrained_cnn = keras.models.load_model('datasets/pretrained_model.h5')\n",
    "\n",
    "# evaluate model on test set\n",
    "score = pretrained_cnn.evaluate(x_test, y_test, verbose=0)\n",
    "print('Test loss:', score[0])\n",
    "print('Test accuracy:', score[1])\n",
    "\n",
    "print(\"\")\n",
    "\n",
    "# evaluate model on holdout set\n",
    "eval_score = pretrained_cnn.evaluate(x_eval, y_eval)\n",
    "# print loss score\n",
    "print('Eval loss:', eval_score[0])\n",
    "# print accuracy score\n",
    "print('Eval accuracy:', eval_score[1])"
   ]
  },
  {
   "source": [
    "# 10. Visualize model training history\n",
    "In addition to scoring the final iteration of the pre-trained model as we just did, we can also see the evolution of scores throughout training thanks to the History object. We'll use the pickle library to load the model history and then plot it.\n",
    "\n",
    "Notice how the accuracy improves over time, eventually leveling off. Correspondingly, the loss decreases over time. Plots like these can help diagnose overfitting. If we had seen an upward curve in the validation loss as times goes on (a U shape in the plot), we'd suspect that the model was starting to memorize the test set and would not generalize well to new data."
   ],
   "cell_type": "markdown",
   "metadata": {}
  },
  {
   "cell_type": "code",
   "execution_count": null,
   "metadata": {},
   "outputs": [],
   "source": [
    "# load history\n",
    "with open('datasets/model_history.pkl', 'rb') as f:\n",
    "    pretrained_cnn_history = pickle.load(f)\n",
    "\n",
    "# print keys for pretrained_cnn_history dict\n",
    "print(pretrained_cnn_history)\n",
    "\n",
    "fig = plt.figure(1)\n",
    "plt.subplot(211)\n",
    "# plot the validation accuracy\n",
    "plt.plot(pretrained_cnn_history['val_acc'])\n",
    "plt.title('Validation accuracy and loss')\n",
    "plt.ylabel('Accuracy')\n",
    "plt.subplot(212)\n",
    "# plot the validation loss\n",
    "plt.plot(pretrained_cnn_history['val_loss'], 'r')\n",
    "plt.xlabel('Epoch')\n",
    "plt.ylabel('Loss value');"
   ]
  },
  {
   "source": [
    "# 11. Generate predictions\n",
    "Previously, we calculated an overall score for our pre-trained model on the validation set. To end this notebook, let's access probabilities and class predictions for individual images using the .predict and .predict_classes methods.\n",
    "\n",
    "We now have a deep learning model that can be used to identify honey bees and bumble bees in images! The next step is to explore transfer learning, which harnesses the prediction power of models that have been trained on far more images than the mere 1600 in our dataset."
   ],
   "cell_type": "markdown",
   "metadata": {}
  },
  {
   "cell_type": "code",
   "execution_count": null,
   "metadata": {},
   "outputs": [],
   "source": [
    "# predicted probabilities for x_eval\n",
    "y_proba = pretrained_cnn.predict(x_eval)\n",
    "\n",
    "print(\"First five probabilities:\")\n",
    "print(y_proba[:5])\n",
    "print(\"\")\n",
    "\n",
    "# predicted classes for x_eval\n",
    "y_pred = pretrained_cnn.predict_classes(x_eval)\n",
    "\n",
    "print(\"First five class predictions:\")\n",
    "print(y_pred[:5])\n",
    "print(\"\")"
   ]
  }
 ]
}